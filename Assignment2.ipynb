{
  "nbformat": 4,
  "nbformat_minor": 0,
  "metadata": {
    "colab": {
      "name": "Assignment2",
      "provenance": [],
      "collapsed_sections": []
    },
    "kernelspec": {
      "name": "python3",
      "display_name": "Python 3"
    }
  },
  "cells": [
    {
      "cell_type": "code",
      "metadata": {
        "id": "ZEdXSafDrIZg",
        "colab_type": "code",
        "colab": {
          "base_uri": "https://localhost:8080/",
          "height": 85
        },
        "outputId": "af80927a-b9c6-40cc-8087-1ef75dfe7290"
      },
      "source": [
        "#1. Given the lengths of three sides of a triangle, calculate the area of the triangle.\n",
        "\n",
        "a=float(input(\"Enter length of 1st side:\"))  \n",
        "b=float(input(\"Enter length of 2nd side:\"))  \n",
        "c=float(input(\"Enter length of 3rd side:\")) \n",
        "if (a+b>c):\n",
        "  s=(a+b+c)/2  \n",
        "  area=(s*(s-a)*(s-b)*(s-c))**0.5  \n",
        "  print(\"The area of the triangle:\",round(area,3))  \n",
        "else:\n",
        "  print(\"The triangle is not possible\") "
      ],
      "execution_count": null,
      "outputs": [
        {
          "output_type": "stream",
          "text": [
            "Enter length of 1st side:15.5\n",
            "Enter length of 2nd side:12.6\n",
            "Enter length of 3rd side:20.2\n",
            "The area of the triangle: 97.624\n"
          ],
          "name": "stdout"
        }
      ]
    },
    {
      "cell_type": "code",
      "metadata": {
        "id": "Dy_0_QcXPhp7",
        "colab_type": "code",
        "colab": {
          "base_uri": "https://localhost:8080/",
          "height": 85
        },
        "outputId": "dd36fb87-c619-4fd1-a931-7dc33ea63d22"
      },
      "source": [
        "#1. Given the lengths of three sides of a triangle, calculate the area of the triangle.\n",
        "\n",
        "a=float(input(\"Enter length of 1st side:\"))  \n",
        "b=float(input(\"Enter length of 2nd side:\"))  \n",
        "c=float(input(\"Enter length of 3rd side:\")) \n",
        "if (a+b>c):\n",
        "  s=(a+b+c)/2  \n",
        "  area=(s*(s-a)*(s-b)*(s-c))**0.5  \n",
        "  print(\"The area of the triangle:\",round(area,3))  \n",
        "else:\n",
        "  print(\"The triangle is not possible\") "
      ],
      "execution_count": null,
      "outputs": [
        {
          "output_type": "stream",
          "text": [
            "Enter length of 1st side:10.2\n",
            "Enter length of 2nd side:19.4\n",
            "Enter length of 3rd side:34.6\n",
            "The triangle is not possible\n"
          ],
          "name": "stdout"
        }
      ]
    },
    {
      "cell_type": "code",
      "metadata": {
        "id": "VUe_CToWrhEz",
        "colab_type": "code",
        "colab": {
          "base_uri": "https://localhost:8080/",
          "height": 51
        },
        "outputId": "6f9846e2-5591-4e19-e664-2f14c8e876ea"
      },
      "source": [
        "#2. Take a string from end user and check if the value is palindrome or not.\n",
        "\n",
        "s=input(\"Enter a string:\")\n",
        "if(s==s[::-1]):\n",
        "    print(\"Given string {} is palindrome\".format(s))\n",
        "else:\n",
        "    print(\"Given string {} is not palindrome\".format(s))"
      ],
      "execution_count": null,
      "outputs": [
        {
          "output_type": "stream",
          "text": [
            "Enter a string:madam\n",
            "Given string madam is palindrome\n"
          ],
          "name": "stdout"
        }
      ]
    },
    {
      "cell_type": "code",
      "metadata": {
        "id": "ldAvf6KSrpVV",
        "colab_type": "code",
        "colab": {
          "base_uri": "https://localhost:8080/",
          "height": 51
        },
        "outputId": "dc19de8a-9bd6-495f-ea00-f52af1195111"
      },
      "source": [
        "#3. Write a program that reads a year from the user and displays a message indicating whether year is leap year or not.\n",
        "\n",
        "yr=int(input(\"Enter the year:\"))\n",
        "if(yr%4==0 and yr%100!=0 or yr%400==0):\n",
        "    print(\"{} is leap year\".format(yr))\n",
        "else:\n",
        "    print(\"{} is not a leap year\".format(yr))"
      ],
      "execution_count": null,
      "outputs": [
        {
          "output_type": "stream",
          "text": [
            "Enter the year:2016\n",
            "2016 is leap year\n"
          ],
          "name": "stdout"
        }
      ]
    },
    {
      "cell_type": "code",
      "metadata": {
        "id": "12fvhhD0r1v6",
        "colab_type": "code",
        "colab": {
          "base_uri": "https://localhost:8080/",
          "height": 51
        },
        "outputId": "684f6609-27bc-4744-e3ce-f5d1c3301024"
      },
      "source": [
        "#4. Space to Hyphen problem\n",
        "#   Take a string as input, and replaces spaces \" \" with hyphens \"-\", and returns a string.\n",
        "#   Input: \"This program converts spaces into hyphen\"\n",
        "#   Output: \"This-program-converts-spaces-into-hyphen\"\n",
        "\n",
        "n=input(\"Enter a string : \")\n",
        "print(n.replace(' ','-'))"
      ],
      "execution_count": null,
      "outputs": [
        {
          "output_type": "stream",
          "text": [
            "Enter a string : This program converts spaces into hyphen\n",
            "This-program-converts-spaces-into-hyphen\n"
          ],
          "name": "stdout"
        }
      ]
    },
    {
      "cell_type": "code",
      "metadata": {
        "id": "maAZvuh1sGpa",
        "colab_type": "code",
        "colab": {
          "base_uri": "https://localhost:8080/",
          "height": 51
        },
        "outputId": "a2651121-b50b-49fa-eb4b-d789f5cdc895"
      },
      "source": [
        "#5. Unique Sort Problem.\n",
        "#   Take a string as input that accepts a comma separated sequence of words as input and prints the unique words in sorted form (alphanumerically).\n",
        "#   *Input*: orange,white,red,cyan,green,magenta,cyan,pink,white\n",
        "#   *Output*: cyan,green,magenta,orange,pink,red,white\n",
        "\n",
        "str=input(\"Enter a string: \")\n",
        "s=str.split()\n",
        "s.sort()\n",
        "list(s)\n",
        "set(s)"
      ],
      "execution_count": null,
      "outputs": [
        {
          "output_type": "stream",
          "text": [
            "Enter a string: orange white red cyan green magenta cyan pink white\n"
          ],
          "name": "stdout"
        },
        {
          "output_type": "execute_result",
          "data": {
            "text/plain": [
              "{'cyan', 'green', 'magenta', 'orange', 'pink', 'red', 'white'}"
            ]
          },
          "metadata": {
            "tags": []
          },
          "execution_count": 2
        }
      ]
    },
    {
      "cell_type": "code",
      "metadata": {
        "id": "orNDWkAQWfBE",
        "colab_type": "code",
        "colab": {
          "base_uri": "https://localhost:8080/",
          "height": 51
        },
        "outputId": "9411b722-ade5-466b-e724-7572c2c4cf10"
      },
      "source": [
        "#6. Tax Calculator\n",
        "#   Ask the user for their monthly salary. Calculate whether they have to pay tax and if so,\n",
        "#   how much is that amount .Print the result.\n",
        "\n",
        "sal=int(input(\"Enter salary : \"))\n",
        "if (sal>=0) and (sal<=250000):\n",
        "    tax=(sal*0)\n",
        "elif (sal>250000) and (sal<=500000):\n",
        "    tax=(sal*0.05)\n",
        "elif (sal>500000) and (sal<=750000):\n",
        "    tax=(sal*0.1)\n",
        "elif (sal>750000) and (sal<=1000000):\n",
        "    tax=(sal*0.15)\n",
        "elif (sal>1000000) and (sal<=1250000):\n",
        "    tax=(sal*0.2)\n",
        "elif (sal>1250000) and (sal<=1500000):\n",
        "    tax=(sal*0.25)\n",
        "else:\n",
        "    tax=(sal*0.3)\n",
        "print(\"Tax is : \",tax)"
      ],
      "execution_count": 16,
      "outputs": [
        {
          "output_type": "stream",
          "text": [
            "Enter salary : 850000\n",
            "Tax is :  127500.0\n"
          ],
          "name": "stdout"
        }
      ]
    },
    {
      "cell_type": "code",
      "metadata": {
        "id": "mTs2t4UrN74E",
        "colab_type": "code",
        "colab": {
          "base_uri": "https://localhost:8080/",
          "height": 34
        },
        "outputId": "06dfce6f-c0d1-4cc7-ffef-d38ccec29f11"
      },
      "source": [
        "#7. Take a list of integers as an argument, and converts it into a single integer (return the integer).\n",
        "#   input:[11,33,50]\n",
        "#   output:113350\n",
        "\n",
        "#   method 1:\n",
        "l=['11','33','50']\n",
        "s=\"\"\n",
        "s=s.join(l)\n",
        "print(s)"
      ],
      "execution_count": null,
      "outputs": [
        {
          "output_type": "stream",
          "text": [
            "113350\n"
          ],
          "name": "stdout"
        }
      ]
    },
    {
      "cell_type": "code",
      "metadata": {
        "id": "nycySZp3s-c_",
        "colab_type": "code",
        "colab": {
          "base_uri": "https://localhost:8080/",
          "height": 34
        },
        "outputId": "aaad78c3-8f74-4680-f956-f328feebeb95"
      },
      "source": [
        "#7. Take a list of integers as an argument, and converts it into a single integer (return the integer).\n",
        "#   input:[11,33,50]\n",
        "#   output:113350\n",
        "\n",
        "l=[11,33,50]\n",
        "for i in l:\n",
        "  print(i,end=\"\")"
      ],
      "execution_count": null,
      "outputs": [
        {
          "output_type": "stream",
          "text": [
            "113350"
          ],
          "name": "stdout"
        }
      ]
    },
    {
      "cell_type": "code",
      "metadata": {
        "id": "eGEa6mI5tHk6",
        "colab_type": "code",
        "colab": {
          "base_uri": "https://localhost:8080/",
          "height": 102
        },
        "outputId": "8354681e-627b-440c-ac89-82acf2299b68"
      },
      "source": [
        "#8. Units of Time\n",
        "#   Create a program that reads duration from the user as a number of days, hours, minutes, and seconds. \n",
        "#   Compute and display the total number of seconds represented by this duration.\n",
        "\n",
        "secpermin=60\n",
        "secperhour=3600\n",
        "secperday=86400\n",
        "days=int(input(\"Enter number of Days: \"))\n",
        "hours=int(input(\"Enter number of Hours: \"))\n",
        "minutes=int(input(\"Enter number of Minutes: \"))\n",
        "seconds=int(input(\"Enter number of Seconds: \"))\n",
        "totalsecs=days*secperday\n",
        "totalsecs=totalsecs+(hours*secperhour)\n",
        "totalsecs=totalsecs+(minutes*secpermin)\n",
        "totalsecs=totalsecs+seconds\n",
        "print(\"Total number of seconds = \",\"%d\"%(totalsecs))"
      ],
      "execution_count": null,
      "outputs": [
        {
          "output_type": "stream",
          "text": [
            "Enter number of Days: 3\n",
            "Enter number of Hours: 24\n",
            "Enter number of Minutes: 70\n",
            "Enter number of Seconds: 60\n",
            "Total number of seconds =  349860\n"
          ],
          "name": "stdout"
        }
      ]
    },
    {
      "cell_type": "code",
      "metadata": {
        "id": "HJm-QZA5t3Xt",
        "colab_type": "code",
        "colab": {
          "base_uri": "https://localhost:8080/",
          "height": 85
        },
        "outputId": "00c99ff3-dd43-425b-d5b4-aad1ae265b40"
      },
      "source": [
        "#9. Sort 3 integers\n",
        "#   Given three integers (given through user input), sort the numbers using |min| and |max| functions.\n",
        "\n",
        "a=int(input(\"Enter a number:\"))\n",
        "b=int(input(\"Enter b number:\"))\n",
        "c=int(input(\"Enter c number:\"))\n",
        "x=min(a,b,c)\n",
        "y=max(a,b,c)\n",
        "z=(a+b+c)-x-y\n",
        "print(\"Sorted order is:\",x,z,y)"
      ],
      "execution_count": null,
      "outputs": [
        {
          "output_type": "stream",
          "text": [
            "Enter a number:3\n",
            "Enter b number:7\n",
            "Enter c number:2\n",
            "Sorted order is: 2 3 7\n"
          ],
          "name": "stdout"
        }
      ]
    },
    {
      "cell_type": "code",
      "metadata": {
        "id": "BwASpKbouav1",
        "colab_type": "code",
        "colab": {
          "base_uri": "https://localhost:8080/",
          "height": 85
        },
        "outputId": "8348aa00-dee5-49fd-d37f-9c9e8321a5e1"
      },
      "source": [
        "#10.  Write a program that reads a date from the user and computes its immediate successor.The date is the format YYYY-MM-DD. So, 2020-04-15\n",
        "#     will have the successor 2020-04-16.\n",
        "\n",
        "yr=int(input(\"Enter a year : \"))\n",
        "if yr%400== 0:\n",
        "    leap_year=True\n",
        "elif yr%100==0:\n",
        "    leap_year=False\n",
        "elif yr%4==0:\n",
        "    leap_year=True\n",
        "else:\n",
        "    leap_year=False\n",
        "month=int(input(\"Enter a month between 1 to 12 : \"))\n",
        "if month in (1, 3, 5, 7, 8, 10, 12):\n",
        "    month_length=31\n",
        "elif month==2:\n",
        "    if leap_year:\n",
        "        month_length=29\n",
        "    else:\n",
        "        month_length=28\n",
        "else:\n",
        "    month_length=30\n",
        "day=int(input(\"Enter a day between 1 to 31 : \"))\n",
        "if day<month_length:\n",
        "    day+=1\n",
        "else:\n",
        "    day=1\n",
        "    if month==12:\n",
        "        month=1\n",
        "        yr+=1\n",
        "    else:\n",
        "        month+=1\n",
        "print(\"The immediate successor is YYYY-MM-DD : %d-%d-%d.\" %(yr,month,day))"
      ],
      "execution_count": null,
      "outputs": [
        {
          "output_type": "stream",
          "text": [
            "Enter a year : 2020\n",
            "Enter a month between 1 to 12 : 12\n",
            "Enter a day between 1 to 31 : 31\n",
            "The immediate successor is YYYY-MM-DD : 2021-1-1.\n"
          ],
          "name": "stdout"
        }
      ]
    },
    {
      "cell_type": "code",
      "metadata": {
        "id": "fD3S7Ppov-t2",
        "colab_type": "code",
        "colab": {
          "base_uri": "https://localhost:8080/",
          "height": 34
        },
        "outputId": "163b36e8-21b1-4a75-ca3b-ebb9f584642b"
      },
      "source": [
        "#11. Compute product of a list of numbers [45,3,2,89,72,1,10,7]\n",
        "#    Output: 121111200\n",
        "\n",
        "list=[45,3,2,89,72,1,10,7]\n",
        "x=1\n",
        "for i in range(len(list)):\n",
        "    x=x*list[i]\n",
        "print(x)"
      ],
      "execution_count": null,
      "outputs": [
        {
          "output_type": "stream",
          "text": [
            "121111200\n"
          ],
          "name": "stdout"
        }
      ]
    },
    {
      "cell_type": "code",
      "metadata": {
        "id": "lfLcmI41v2cq",
        "colab_type": "code",
        "colab": {
          "base_uri": "https://localhost:8080/",
          "height": 34
        },
        "outputId": "83c3bf2a-aa1e-49fb-9efc-2518f1bd0b0d"
      },
      "source": [
        "#12.  Compute given Num_list=[5,6,8,34,89,1] to get desired output.\n",
        "#     Output : Out_list=[11,14,42,123,90]\n",
        "\n",
        "l=[5,6,8,34,89,1]\n",
        "Out_list=[]\n",
        "for i in range(len(l)-1):\n",
        "    ol=l[i]+l[i+1]\n",
        "    Out_list.append(ol)\n",
        "print(\"Out_list=\",Out_list)"
      ],
      "execution_count": null,
      "outputs": [
        {
          "output_type": "stream",
          "text": [
            "Out_list= [11, 14, 42, 123, 90]\n"
          ],
          "name": "stdout"
        }
      ]
    },
    {
      "cell_type": "code",
      "metadata": {
        "id": "4n8wEMLIw8fM",
        "colab_type": "code",
        "colab": {
          "base_uri": "https://localhost:8080/",
          "height": 34
        },
        "outputId": "7589356a-1928-44eb-d55b-811a9b610b17"
      },
      "source": [
        "#13.  Compute given Num_tuple=(5,6,8,3,9,1) to get desired output.\n",
        "#     Output : Out_list=[5,30,240,720,6480,6480]  \n",
        "\n",
        "t=(5,6,8,3,9,1)\n",
        "Out_list=[]\n",
        "Out_list.append(t[0])\n",
        "for i in range(len(t)-1):\n",
        "    p=Out_list[i]*t[i+1]\n",
        "    Out_list.append(p)\n",
        "print(\"Out_list=\",Out_list)"
      ],
      "execution_count": null,
      "outputs": [
        {
          "output_type": "stream",
          "text": [
            "Out_list= [5, 30, 240, 720, 6480, 6480]\n"
          ],
          "name": "stdout"
        }
      ]
    },
    {
      "cell_type": "code",
      "metadata": {
        "id": "6nxkss-IxmZk",
        "colab_type": "code",
        "colab": {
          "base_uri": "https://localhost:8080/",
          "height": 51
        },
        "outputId": "3ae08fe5-3936-4fe6-f8cf-09935bfd2235"
      },
      "source": [
        "#14.  Write a Python code that takes a number and returns a list of its digits. So for 586392 it should return [5,8,6,3,9,2].\n",
        "\n",
        "num=input(\"Enter a num: \")\n",
        "list=[]\n",
        "for i in range(len(num)):\n",
        "    list.append(num[i])\n",
        "print(list)"
      ],
      "execution_count": null,
      "outputs": [
        {
          "output_type": "stream",
          "text": [
            "Enter a num: 586392\n",
            "['5', '8', '6', '3', '9', '2']\n"
          ],
          "name": "stdout"
        }
      ]
    },
    {
      "cell_type": "code",
      "metadata": {
        "id": "0ayoBSD1yAKg",
        "colab_type": "code",
        "colab": {
          "base_uri": "https://localhost:8080/",
          "height": 51
        },
        "outputId": "da81eb0f-689b-43a5-fc9b-59ee7cb8094b"
      },
      "source": [
        "#15. Write a program that finds the longest palindromic substring of a given string.\n",
        "\n",
        "def longestpalindrome(s):\n",
        "    d=[[False for i in range(len(s))] for i in range(len(s))]\n",
        "    for i in range(len(s)):\n",
        "        d[i][i]=True\n",
        "    maxlen=1\n",
        "    start=0\n",
        "    for l in range(2,len(s)+1):\n",
        "        for i in range(len(s)-l+1):\n",
        "            end=i+l\n",
        "            if l==2:\n",
        "                if s[i]==s[end-1]:\n",
        "                    d[i][end-1]=True\n",
        "                    maxlen=l\n",
        "                    start=i\n",
        "            else:\n",
        "                if s[i]==s[end-1] and d[i+1][end-2]:\n",
        "                    d[i][end-1]=True\n",
        "                    maxlen=l\n",
        "                    start=i\n",
        "    return s[start:start+maxlen]\n",
        "s=input(\"Enter a string : \")\n",
        "print(longestpalindrome(s))"
      ],
      "execution_count": null,
      "outputs": [
        {
          "output_type": "stream",
          "text": [
            "Enter a string : deefeeghi\n",
            "eefee\n"
          ],
          "name": "stdout"
        }
      ]
    },
    {
      "cell_type": "code",
      "metadata": {
        "id": "ZdTd7qLHfKVO",
        "colab_type": "code",
        "colab": {
          "base_uri": "https://localhost:8080/",
          "height": 102
        },
        "outputId": "1d835c00-1f75-4e02-97f7-1bffd9cd84de"
      },
      "source": [
        "#16.  Substring Check (Bug Funny)\n",
        "#     Given two binary strings, A (of length 10) and B (of length 5), output 1 if B is a substring of A and 0 otherwise.\n",
        "#     First two lines of input:\n",
        "#     1010110010          10110\n",
        "#     1110111011           10011\n",
        "#     First two lines of output:\n",
        "#     1\n",
        "#     0\n",
        "\n",
        "t=int(input())\n",
        "for i in range(t):\n",
        "  A,B=input(\"Enter A string and B string : \").split()\n",
        "  if B in A:\n",
        "    print(\"1\")\n",
        "  else:\n",
        "    print(\"0\")"
      ],
      "execution_count": null,
      "outputs": [
        {
          "output_type": "stream",
          "text": [
            "2\n",
            "Enter A string and B string : 1010110010 10110\n",
            "1\n",
            "Enter A string and B string : 1110111011 10011\n",
            "0\n"
          ],
          "name": "stdout"
        }
      ]
    },
    {
      "cell_type": "code",
      "metadata": {
        "id": "T5gJJiDxTiRA",
        "colab_type": "code",
        "colab": {
          "base_uri": "https://localhost:8080/",
          "height": 170
        },
        "outputId": "2de858e3-5346-4d85-82a2-3c7e8dcd3056"
      },
      "source": [
        "#17.  POUR1 - Pouring water\n",
        "#    Given two vessels, one of which can accommodate a litres of water and the other - b litres of water, \n",
        "#    determine the number of steps required to obtain exactly c litres of water in one of the vessels.\n",
        "#    At the beginning both vessels are empty. The following operations are counted as 'steps':\n",
        "#    emptying a vessel,filling a vessel,pouring water from one vessel to the other, without spilling, \n",
        "#    until one of the vessels is either full or empty.\n",
        "#    Input\n",
        "#    An integer t, 1<=t<=100, denoting the number of testcases , followed by t sets of input data, \n",
        "#    each consisting of three positive integers a, b, c, not larger than 40000, given in separate lines.\n",
        "#    Output\n",
        "#    For each set of input data, output the minimum number of steps required to obtain c litres, or -1 if this is impossible.\n",
        "\n",
        "def gcd(a,b):\n",
        "    if b==0: \n",
        "        return a \n",
        "    return gcd(b,a%b) \n",
        "def countsteps(a,b,c): \n",
        "    v1=b\n",
        "    v2=0\n",
        "    count=1\n",
        "    while ((v1 is not c) and (v2 is not c)): \n",
        "        temp=min(v1,a-v2) \n",
        "        v2=v2+temp \n",
        "        v1=v1-temp \n",
        "        count=count+1\n",
        "        if ((v2==c)or(v1==c)): \n",
        "            break\n",
        "        if v1==0: \n",
        "            v1=b \n",
        "            count=count+1\n",
        "        if v2==a: \n",
        "            v2=0\n",
        "            count=count+1\n",
        "    return count \n",
        "def ispossible(a,b,c): \n",
        "    if a>b: \n",
        "        temp=a \n",
        "        a=b \n",
        "        b=temp \n",
        "    if c>b: \n",
        "        return -1\n",
        "    if (c%(gcd(b,a)) is not 0): \n",
        "        return -1\n",
        "    return(min(countsteps(b,a,c),countsteps(a,b,c)))\n",
        "t=int(input(\"Enter no of testcases : \"))\n",
        "for i in range(t):\n",
        "  a=int(input(\"Enter capacity of vessel a : \"))\n",
        "  b=int(input(\"Enter capacity of vessel b : \"))\n",
        "  c=int(input(\"Enter capacity to be obtained :\"))\n",
        "  print(\"Minimum number of steps required is : \",ispossible(a,b,c))"
      ],
      "execution_count": null,
      "outputs": [
        {
          "output_type": "stream",
          "text": [
            "Enter no of testcases : 2\n",
            "Enter capacity of vessel a : 5\n",
            "Enter capacity of vessel b : 2\n",
            "Enter capacity to be obtained :3\n",
            "Minimum number of steps required is :  2\n",
            "Enter capacity of vessel a : 2\n",
            "Enter capacity of vessel b : 3\n",
            "Enter capacity to be obtained :4\n",
            "Minimum number of steps required is :  -1\n"
          ],
          "name": "stdout"
        }
      ]
    }
  ]
}